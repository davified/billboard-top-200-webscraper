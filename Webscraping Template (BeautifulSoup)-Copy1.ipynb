{
 "cells": [
  {
   "cell_type": "markdown",
   "metadata": {},
   "source": [
    "# Read me"
   ]
  },
  {
   "cell_type": "code",
   "execution_count": 97,
   "metadata": {
    "collapsed": true
   },
   "outputs": [],
   "source": [
    "from bs4 import BeautifulSoup\n",
    "import requests\n",
    "import pandas as pd\n",
    "import numpy as np\n",
    "import csv\n",
    "import time\n",
    "import json\n",
    "from pandas.io.json import json_normalize\n",
    "\n",
    "\n",
    "%matplotlib inline\n",
    "#import matplotlib\n",
    "import matplotlib.pyplot as plt\n",
    "plt.style.use('ggplot')\n",
    "import plotly.plotly as py\n",
    "import plotly.graph_objs as go\n",
    "import cufflinks as cf\n",
    "import plotly.tools as tls\n",
    "from pandas import set_option\n",
    "set_option(\"display.max_rows\", 10)"
   ]
  },
  {
   "cell_type": "markdown",
   "metadata": {},
   "source": [
    "## Let's build the components of our webscraping script (BeautifulSoup)\n",
    "First, I will build and test the webscraper on a single date (in this case, 2000-05-06)"
   ]
  },
  {
   "cell_type": "code",
   "execution_count": null,
   "metadata": {
    "collapsed": false
   },
   "outputs": [],
   "source": [
    "#The standard beautifulsoup incantation to scrape a given URL\n",
    "url = ('http://www.billboard.com/charts/billboard-200/2000-05-06')\n",
    "r = requests.get(url)\n",
    "soup = BeautifulSoup(r.text, \"html\")\n",
    "soup.prettify()\n",
    "\n",
    "#Creating an array containing\n",
    "top200albums = []\n",
    "for item in soup.find_all('h2',{'class':'chart-row__song'}):\n",
    "    top200albums.append(item.string.strip())\n",
    "\n",
    "#This code below allows us to scrape MULTIPLE TAGS (WOW!) according to class attributes.\n",
    "#This is handy because the Billboard website has different tags (h2, h3, a) for artistes for some reason.\n",
    "top200artistes = []\n",
    "for item in soup.find_all(True, {\"class\":[\"chart-row__artist\"]}):\n",
    "    top200artistes.append(item.string.strip())\n"
   ]
  },
  {
   "cell_type": "code",
   "execution_count": null,
   "metadata": {
    "collapsed": false
   },
   "outputs": [],
   "source": [
    "# Let's see if the script works\n",
    "print top200songs\n",
    "print top200artistes"
   ]
  },
  {
   "cell_type": "code",
   "execution_count": null,
   "metadata": {
    "collapsed": false
   },
   "outputs": [],
   "source": [
    "#The webscraping script above works! Let's put them into a pandas dataframe so we can unleash the power of pandas on it\n",
    "#Note that the 'week' column has a .normalize() method. This drops the timestamp(hh:mm:ss) since we don't need it.\n",
    "chart = pd.DataFrame({'rank': pd.Series(np.arange(1,201,1)),\n",
    "                     'artiste': pd.Series(top200artistes),\n",
    "                     'song': pd.Series(top200songs),\n",
    "                     'week': pd.date_range('2000-05-06', periods = 200, freq='S').normalize()})\n",
    "\n",
    "#rearranging the column sequence\n",
    "chart = chart[['artiste', 'song', 'rank', 'week']]\n",
    "chart"
   ]
  },
  {
   "cell_type": "markdown",
   "metadata": {},
   "source": [
    "## It works! Let's put it altogether now in a for loop to get our weekly chart data"
   ]
  },
  {
   "cell_type": "code",
   "execution_count": null,
   "metadata": {
    "collapsed": true
   },
   "outputs": [],
   "source": [
    "#Thankfully, Billboard has a really consistent URL nomenclature. I need only to change the date at the end of the URL.\n",
    "#Let's build a for loop which creates URLs for each week's top 200 chart, and let's see if these links work\n",
    "\n",
    "dates = pd.date_range('1963-08-17', periods=3, freq='7D')\n",
    "dates = dates.strftime('%Y-%m-%d')\n",
    "\n",
    "for date in dates:\n",
    "    url = ('http://www.billboard.com/charts/billboard-200/' + str(date))\n",
    "    print url\n"
   ]
  },
  {
   "cell_type": "code",
   "execution_count": null,
   "metadata": {
    "collapsed": false
   },
   "outputs": [],
   "source": [
    "#Let's loop from 1963-08-17 (that's as far back as the Billboard Top 200 goes) to the latest chart on a weekly basis.\n",
    "#Therell be some missing values/duplicates because the Billboard data sometimes only has top 100 or top 150, but we'll\n",
    "#deal with this later when we clean the dataset.\n",
    "\n",
    "#1963-08-17 - 1971-12-11 \n",
    "#1971-12-18 to 1989-02-18 (periods = 896)\n",
    "#1989-02-25 to 1994-04-16 (periods = 268)\n",
    "#1994-04-23 to 2011-07-09 (periods = 899, in process)\n",
    "#2011-07-16 - present (date?) # 2553 - 2753 (periods = 200)\n",
    "\n",
    "\n",
    "dates = pd.date_range('1963-08-17', periods=2753, freq='7D') #I've tested that the script works using 'periods = 3'\n",
    "dates = dates.strftime('%Y-%m-%d')\n",
    "consolidated_charts = [] # let's create an array to hold each of the weekly arrays\n",
    "for date in dates:\n",
    "    try:       #I included a try/except loop to ensure that even if the code breaks, I won't have to start from scratch\n",
    "        url = ('http://www.billboard.com/charts/billboard-200/' + date)\n",
    "        r = requests.get(url)\n",
    "        soup = BeautifulSoup(r.text, \"html.parser\")\n",
    "\n",
    "        soup.prettify()\n",
    "\n",
    "        top200songs = []\n",
    "        for item in soup.find_all('h2',{'class':'chart-row__song'}):\n",
    "            top200songs.append(item.string.strip())\n",
    "\n",
    "        #This code below allows us to scrape MULTIPLE TAGS (WOW!) according to class attributes.\n",
    "        #This is handy because the Billboard website has different tags (h2, h3, a) for artistes for some reason.\n",
    "        top200artistes = []\n",
    "        for item in soup.find_all(True, {\"class\":[\"chart-row__artist\"]}):\n",
    "            top200artistes.append(item.string.strip())\n",
    "\n",
    "        #Buidling the ranking table for that week. Note that the 'week' column has a .normalize() method. This drops the \n",
    "        #timestamp(hh:mm:ss) since we're not interested in that.\n",
    "        chart = pd.DataFrame({'rank': pd.Series(np.arange(1,201,1)),\n",
    "                             'artiste': pd.Series(top200artistes),\n",
    "                             'song': pd.Series(top200songs),\n",
    "                             'week': pd.date_range(date, periods = 200, freq='S').normalize()})\n",
    "\n",
    "\n",
    "\n",
    "        #rearranging the column sequence\n",
    "        chart = chart[['artiste', 'song', 'rank', 'week']]\n",
    "\n",
    "        #appending the chart dataframe to our main dataframe (consolidated_charts)\n",
    "        consolidated_charts.append(chart)\n",
    "        time.sleep(11)   #it's v. important that we specify the interval of the loop to give the URL some time to load\n",
    "                         #and so that www.billboard.com doesn't ban us :p\n",
    "    except:\n",
    "        pass\n",
    "consolidated_charts = pd.concat(consolidated_charts, axis = 0)\n",
    "    \n",
    "#This actually took a REALLY long while. 2753 * 11s = 8.4 hrs. It crashed a few times too because I couldn't configure\n",
    "#my mac to stay awake. I subsequently found a command that worked.  Type in <caffeinate -t 3600> in the command line.\n",
    "#This keeps the computer awake for 1 hr. You can change the last integer as necessary.\n"
   ]
  },
  {
   "cell_type": "code",
   "execution_count": null,
   "metadata": {
    "collapsed": false,
    "scrolled": true
   },
   "outputs": [],
   "source": [
    "# It's done! Let's take a look!\n",
    "consolidated_charts"
   ]
  },
  {
   "cell_type": "code",
   "execution_count": null,
   "metadata": {
    "collapsed": false
   },
   "outputs": [],
   "source": [
    "#Unfortunately, because it crashed a few times because my laptop went into hibernation, I had to restart the loop a\n",
    "#few times. Thankfully the try/except loop allowed me to salvage whatever was scraped! Let's merge these csv files\n",
    "#into one dataframe and save it as one csv file\n",
    "\n",
    "df1 = pd.read_csv(\"billboardtop200 1963-08-17 to 1971-12-11.csv\")\n",
    "df2 = pd.read_csv(\"billboardtop200 1971-12-18 to 1989-02-18.csv\")\n",
    "df3 = pd.read_csv(\"billboardtop200 1989-02-25 to 1994-04-16.csv\")\n",
    "df4 = pd.read_csv(\"billboardtop200 1994-04-23 to 1997-06-28.csv\")\n",
    "df5 = pd.read_csv(\"billboardtop200 1997-07-05 to 2011-07-09.csv\")\n",
    "df6 = pd.read_csv(\"billboardtop200 2011-07-16 to 2015-05-09.csv\")\n",
    "df7 = pd.read_csv(\"billboardtop200 2015-05-16 to 2016-05-14.csv\")\n",
    "\n",
    "frames = [df1, df2, df3, df4, df5, df6, df7]\n",
    "merged = pd.concat(frames)\n",
    "merged.to_csv(\"billboardtop200 1963-08-17 to 2016-05-14.csv\",  encoding='utf-8')\n",
    "\n",
    "#Done! Now we have 53 years of billboard charts data to play with!"
   ]
  },
  {
   "cell_type": "markdown",
   "metadata": {
    "collapsed": false
   },
   "source": [
    "## Let's clean the data!\n",
    "\n",
    "There's a couple of things which we need to do:\n",
    "1. Remove the unnecessary columns (i.e. the first column)\n",
    "2. Rename \"song\" column as \"album\"\n",
    "3. Convert the values in the \"week\" column to datetime\n",
    "4. Check for duplicates and null values and remove them"
   ]
  },
  {
   "cell_type": "code",
   "execution_count": null,
   "metadata": {
    "collapsed": true
   },
   "outputs": [],
   "source": [
    "#i'm reloading the merged csv file so that we can restart from here if anything blows up later!\n",
    "merged = pd.read_csv(\"billboardtop200 1963-08-17 to 2016-05-14.csv\")"
   ]
  },
  {
   "cell_type": "code",
   "execution_count": null,
   "metadata": {
    "collapsed": false
   },
   "outputs": [],
   "source": [
    "merged.info()\n",
    "\n",
    "#the discrepancy between rank/week and  artiste/song indicates that there are some null objects in artiste/song which\n",
    "#are not counted by the .info() function. Let's drop these rows containing null objects later"
   ]
  },
  {
   "cell_type": "code",
   "execution_count": null,
   "metadata": {
    "collapsed": false
   },
   "outputs": [],
   "source": [
    "merged.head()"
   ]
  },
  {
   "cell_type": "code",
   "execution_count": null,
   "metadata": {
    "collapsed": false
   },
   "outputs": [],
   "source": [
    "#1 & 2. Removing column 1 and renaming the column \"song\" to \"album\"\n",
    "merged.drop(merged.columns[0], axis = 1, inplace = True)\n",
    "merged.rename(index = str, columns={\"song\":'album'},inplace=True)\n",
    "merged.head()"
   ]
  },
  {
   "cell_type": "code",
   "execution_count": null,
   "metadata": {
    "collapsed": false
   },
   "outputs": [],
   "source": [
    "#3. Convert the values in the \"week\" column to datetime\n",
    "merged['week'] = pd.to_datetime(merged.week)\n",
    "merged.dtypes"
   ]
  },
  {
   "cell_type": "code",
   "execution_count": null,
   "metadata": {
    "collapsed": false
   },
   "outputs": [],
   "source": [
    "#4. Check for null values and duplicates and remove them\n",
    "#4.1 Let's check for null values first, since that's easier to do\n",
    "print merged.album.isnull().value_counts()\n",
    "\n",
    "#There are 12,831 null rows. let's drop them\n",
    "\n",
    "merged = merged.dropna(how='any')\n",
    "print merged.album.isnull().value_counts()"
   ]
  },
  {
   "cell_type": "code",
   "execution_count": null,
   "metadata": {
    "collapsed": false
   },
   "outputs": [],
   "source": [
    "merged.info()\n",
    "#no more discrepancies in the number of objects between the columns!"
   ]
  },
  {
   "cell_type": "code",
   "execution_count": null,
   "metadata": {
    "collapsed": false,
    "scrolled": true
   },
   "outputs": [],
   "source": [
    "#4.2 Let's now check for duplicates\n",
    "#It is highly unlikely that an artiste will appear twice in the weekly top 200 charts, unless the artiste released\n",
    "#two albums in the same week. So let's identify the instances where the artiste appears twice in a week. To do this,\n",
    "#we have to temporarily remove the rank column so that we can use the .duplicated() and .drop_duplicates() function.\n",
    "#These functions identify rows which have identical contents (i.e. same artiste, same album in the  same week)\n",
    "\n",
    "#let's drop the rank temporarily\n",
    "merged_withoutrank = merged.drop('rank', axis = 1)\n"
   ]
  },
  {
   "cell_type": "code",
   "execution_count": null,
   "metadata": {
    "collapsed": false
   },
   "outputs": [],
   "source": [
    "merged_withoutrank.duplicated().value_counts()\n",
    "\n",
    "#Aha! 870 duplicates!"
   ]
  },
  {
   "cell_type": "code",
   "execution_count": null,
   "metadata": {
    "collapsed": true
   },
   "outputs": [],
   "source": [
    "#let's create mask (a series of true/false values) as a tag to identify the duplicates\n",
    "mask = merged_withoutrank.duplicated()"
   ]
  },
  {
   "cell_type": "code",
   "execution_count": null,
   "metadata": {
    "collapsed": false
   },
   "outputs": [],
   "source": [
    "print merged[mask == True]\n",
    "\n",
    "#Let's export this to a csv file for a quick eyeball on whether each of the 870 rows are indeed duplicates.\n",
    "merged[mask == True].to_csv(\"billboardtop200 duplicates.csv\")\n",
    "\n",
    "#having taken a look, I vertify that these are indeed duplicates. Two telling pieces of evidence: (i) there are some \n",
    "#rows which were duplicated between 5 to 40 times (e.g. Ray Charles' Modern Sounds In Country And Western Music and \n",
    "#Jane Fonda's Workout Record (see it for yourself - http://www.billboard.com/charts/billboard-200/1983-07-02)!);\n",
    "#(ii) the indexes of the rows identified increase by 2 each time (e.g. 131, 133, 135, 137) - meaning that each artiste\n",
    "#were listed twice in the same chart. Billboard's web developers somehow made this duplication when converting top 100\n",
    "#charts to top 200 charts.\n",
    "\n",
    "#We could send this csv file to Billboard if they are interested in fixing this. "
   ]
  },
  {
   "cell_type": "code",
   "execution_count": null,
   "metadata": {
    "collapsed": false
   },
   "outputs": [],
   "source": [
    "#Now that we're sure those are duplicates, let's drop them. First we create a new column 'is_duplicate' in the merged\n",
    "#dataframe\n",
    "merged['is_duplicate'] = mask\n",
    "merged[(merged.week == '1963-09-21') & (merged.artiste == 'Ray Charles')]"
   ]
  },
  {
   "cell_type": "code",
   "execution_count": null,
   "metadata": {
    "collapsed": false,
    "scrolled": true
   },
   "outputs": [],
   "source": [
    "merged = merged[merged.is_duplicate == False]\n",
    "merged.duplicated().value_counts()\n",
    "\n",
    "#no more duplicates!"
   ]
  },
  {
   "cell_type": "code",
   "execution_count": null,
   "metadata": {
    "collapsed": true
   },
   "outputs": [],
   "source": [
    "#Let's save this clean dataframe into a new csv file\n",
    "merged.to_csv(\"billboardtop200 1963-08-17 to 2016-05-14 (clean).csv\",  encoding='utf-8')"
   ]
  },
  {
   "cell_type": "markdown",
   "metadata": {
    "collapsed": false
   },
   "source": [
    "## Summarising Groups in the DataFrame\n",
    "There’s further power put into your hands by mastering the Pandas “groupby()” functionality. Groupby essentially splits the data into different groups depending on a variable of your choice. For example, the expression  data.groupby('month')  will split our current DataFrame by month. The groupby() function returns a GroupBy object, but essentially describes how the rows of the original data set has been split. the GroupBy object .groups variable is a dictionary whose keys are the computed unique groups and corresponding values being the axis labels belonging to each group. For example:"
   ]
  },
  {
   "cell_type": "code",
   "execution_count": 13,
   "metadata": {
    "collapsed": false,
    "scrolled": true
   },
   "outputs": [],
   "source": [
    "#As before, I'm reloading the clean csv file so that we can restart from here if anything blows up later!\n",
    "clean = pd.read_csv(\"billboardtop200 1963-08-17 to 2016-05-14 (clean).csv\")"
   ]
  },
  {
   "cell_type": "code",
   "execution_count": 14,
   "metadata": {
    "collapsed": false
   },
   "outputs": [
    {
     "data": {
      "text/html": [
       "<div>\n",
       "<table border=\"1\" class=\"dataframe\">\n",
       "  <thead>\n",
       "    <tr style=\"text-align: right;\">\n",
       "      <th></th>\n",
       "      <th>Unnamed: 0</th>\n",
       "      <th>artiste</th>\n",
       "      <th>album</th>\n",
       "      <th>rank</th>\n",
       "      <th>week</th>\n",
       "      <th>is_duplicate</th>\n",
       "    </tr>\n",
       "  </thead>\n",
       "  <tbody>\n",
       "    <tr>\n",
       "      <th>0</th>\n",
       "      <td>0</td>\n",
       "      <td>Andy Williams</td>\n",
       "      <td>Days Of Wine And Roses</td>\n",
       "      <td>1</td>\n",
       "      <td>1963-08-17</td>\n",
       "      <td>False</td>\n",
       "    </tr>\n",
       "    <tr>\n",
       "      <th>1</th>\n",
       "      <td>1</td>\n",
       "      <td>Stevie Wonder</td>\n",
       "      <td>Little Stevie Wonder/The 12 Year Old Genius</td>\n",
       "      <td>2</td>\n",
       "      <td>1963-08-17</td>\n",
       "      <td>False</td>\n",
       "    </tr>\n",
       "    <tr>\n",
       "      <th>2</th>\n",
       "      <td>2</td>\n",
       "      <td>Soundtrack</td>\n",
       "      <td>West Side Story</td>\n",
       "      <td>3</td>\n",
       "      <td>1963-08-17</td>\n",
       "      <td>False</td>\n",
       "    </tr>\n",
       "    <tr>\n",
       "      <th>3</th>\n",
       "      <td>3</td>\n",
       "      <td>Peter, Paul &amp; Mary</td>\n",
       "      <td>(Moving)</td>\n",
       "      <td>4</td>\n",
       "      <td>1963-08-17</td>\n",
       "      <td>False</td>\n",
       "    </tr>\n",
       "    <tr>\n",
       "      <th>4</th>\n",
       "      <td>4</td>\n",
       "      <td>Trini Lopez</td>\n",
       "      <td>Trini Lopez At PJ'S</td>\n",
       "      <td>5</td>\n",
       "      <td>1963-08-17</td>\n",
       "      <td>False</td>\n",
       "    </tr>\n",
       "  </tbody>\n",
       "</table>\n",
       "</div>"
      ],
      "text/plain": [
       "   Unnamed: 0             artiste  \\\n",
       "0           0       Andy Williams   \n",
       "1           1       Stevie Wonder   \n",
       "2           2          Soundtrack   \n",
       "3           3  Peter, Paul & Mary   \n",
       "4           4         Trini Lopez   \n",
       "\n",
       "                                         album  rank        week is_duplicate  \n",
       "0                       Days Of Wine And Roses     1  1963-08-17        False  \n",
       "1  Little Stevie Wonder/The 12 Year Old Genius     2  1963-08-17        False  \n",
       "2                              West Side Story     3  1963-08-17        False  \n",
       "3                                     (Moving)     4  1963-08-17        False  \n",
       "4                          Trini Lopez At PJ'S     5  1963-08-17        False  "
      ]
     },
     "execution_count": 14,
     "metadata": {},
     "output_type": "execute_result"
    }
   ],
   "source": [
    "clean.head()\n"
   ]
  },
  {
   "cell_type": "code",
   "execution_count": 15,
   "metadata": {
    "collapsed": false
   },
   "outputs": [
    {
     "data": {
      "text/html": [
       "<div>\n",
       "<table border=\"1\" class=\"dataframe\">\n",
       "  <thead>\n",
       "    <tr style=\"text-align: right;\">\n",
       "      <th></th>\n",
       "      <th>artiste</th>\n",
       "      <th>album</th>\n",
       "      <th>rank</th>\n",
       "      <th>week</th>\n",
       "    </tr>\n",
       "  </thead>\n",
       "  <tbody>\n",
       "    <tr>\n",
       "      <th>0</th>\n",
       "      <td>Andy Williams</td>\n",
       "      <td>Days Of Wine And Roses</td>\n",
       "      <td>1</td>\n",
       "      <td>1963-08-17</td>\n",
       "    </tr>\n",
       "    <tr>\n",
       "      <th>1</th>\n",
       "      <td>Stevie Wonder</td>\n",
       "      <td>Little Stevie Wonder/The 12 Year Old Genius</td>\n",
       "      <td>2</td>\n",
       "      <td>1963-08-17</td>\n",
       "    </tr>\n",
       "    <tr>\n",
       "      <th>2</th>\n",
       "      <td>Soundtrack</td>\n",
       "      <td>West Side Story</td>\n",
       "      <td>3</td>\n",
       "      <td>1963-08-17</td>\n",
       "    </tr>\n",
       "    <tr>\n",
       "      <th>3</th>\n",
       "      <td>Peter, Paul &amp; Mary</td>\n",
       "      <td>(Moving)</td>\n",
       "      <td>4</td>\n",
       "      <td>1963-08-17</td>\n",
       "    </tr>\n",
       "    <tr>\n",
       "      <th>4</th>\n",
       "      <td>Trini Lopez</td>\n",
       "      <td>Trini Lopez At PJ'S</td>\n",
       "      <td>5</td>\n",
       "      <td>1963-08-17</td>\n",
       "    </tr>\n",
       "  </tbody>\n",
       "</table>\n",
       "</div>"
      ],
      "text/plain": [
       "              artiste                                        album  rank  \\\n",
       "0       Andy Williams                       Days Of Wine And Roses     1   \n",
       "1       Stevie Wonder  Little Stevie Wonder/The 12 Year Old Genius     2   \n",
       "2          Soundtrack                              West Side Story     3   \n",
       "3  Peter, Paul & Mary                                     (Moving)     4   \n",
       "4         Trini Lopez                          Trini Lopez At PJ'S     5   \n",
       "\n",
       "         week  \n",
       "0  1963-08-17  \n",
       "1  1963-08-17  \n",
       "2  1963-08-17  \n",
       "3  1963-08-17  \n",
       "4  1963-08-17  "
      ]
     },
     "execution_count": 15,
     "metadata": {},
     "output_type": "execute_result"
    }
   ],
   "source": [
    "#let's remove the unnecessary columns\n",
    "clean = clean.drop(clean.columns[[0, 5]], axis = 1) \n",
    "clean.head()"
   ]
  },
  {
   "cell_type": "code",
   "execution_count": 151,
   "metadata": {
    "collapsed": false
   },
   "outputs": [
    {
     "data": {
      "text/plain": [
       "Soundtrack            23885\n",
       "Various Artists       14063\n",
       "The Beatles            2508\n",
       "The Rolling Stones     1835\n",
       "Barbra Streisand       1813\n",
       "Elvis Presley          1689\n",
       "Elton John             1625\n",
       "Original Cast          1580\n",
       "Pink Floyd             1577\n",
       "Michael Jackson        1408\n",
       "Name: artiste, dtype: int64"
      ]
     },
     "execution_count": 151,
     "metadata": {},
     "output_type": "execute_result"
    }
   ],
   "source": [
    "clean.artiste.value_counts().head(10)"
   ]
  },
  {
   "cell_type": "code",
   "execution_count": 19,
   "metadata": {
    "collapsed": false
   },
   "outputs": [],
   "source": [
    "beatles = clean[clean.artiste == 'The Beatles']"
   ]
  },
  {
   "cell_type": "code",
   "execution_count": null,
   "metadata": {
    "collapsed": true
   },
   "outputs": [],
   "source": [
    "beatles.plot()"
   ]
  },
  {
   "cell_type": "markdown",
   "metadata": {
    "collapsed": false
   },
   "source": [
    "## Split-Apply-Combine\n",
    "\n",
    "Let's play around with the data to see what visualisations we can produce.\n",
    "1. Let's group the data by artistes, with columns being: (i) number_1, (ii)"
   ]
  },
  {
   "cell_type": "code",
   "execution_count": 33,
   "metadata": {
    "collapsed": false
   },
   "outputs": [
    {
     "data": {
      "text/html": [
       "<div>\n",
       "<table border=\"1\" class=\"dataframe\">\n",
       "  <thead>\n",
       "    <tr style=\"text-align: right;\">\n",
       "      <th></th>\n",
       "      <th>artiste</th>\n",
       "      <th>album</th>\n",
       "      <th>rank</th>\n",
       "      <th>week</th>\n",
       "    </tr>\n",
       "  </thead>\n",
       "  <tbody>\n",
       "    <tr>\n",
       "      <th>0</th>\n",
       "      <td>Andy Williams</td>\n",
       "      <td>Days Of Wine And Roses</td>\n",
       "      <td>1</td>\n",
       "      <td>1963-08-17</td>\n",
       "    </tr>\n",
       "    <tr>\n",
       "      <th>149</th>\n",
       "      <td>Stevie Wonder</td>\n",
       "      <td>Little Stevie Wonder/The 12 Year Old Genius</td>\n",
       "      <td>1</td>\n",
       "      <td>1963-08-24</td>\n",
       "    </tr>\n",
       "    <tr>\n",
       "      <th>246</th>\n",
       "      <td>Allan Sherman</td>\n",
       "      <td>My Son, The Nut</td>\n",
       "      <td>1</td>\n",
       "      <td>1963-08-31</td>\n",
       "    </tr>\n",
       "    <tr>\n",
       "      <th>395</th>\n",
       "      <td>Allan Sherman</td>\n",
       "      <td>My Son, The Nut</td>\n",
       "      <td>1</td>\n",
       "      <td>1963-09-07</td>\n",
       "    </tr>\n",
       "    <tr>\n",
       "      <th>544</th>\n",
       "      <td>Allan Sherman</td>\n",
       "      <td>My Son, The Nut</td>\n",
       "      <td>1</td>\n",
       "      <td>1963-09-14</td>\n",
       "    </tr>\n",
       "    <tr>\n",
       "      <th>...</th>\n",
       "      <td>...</td>\n",
       "      <td>...</td>\n",
       "      <td>...</td>\n",
       "      <td>...</td>\n",
       "    </tr>\n",
       "    <tr>\n",
       "      <th>535899</th>\n",
       "      <td>Zayn</td>\n",
       "      <td>Mind Of Mine</td>\n",
       "      <td>1</td>\n",
       "      <td>2016-04-16</td>\n",
       "    </tr>\n",
       "    <tr>\n",
       "      <th>536099</th>\n",
       "      <td>Kanye West</td>\n",
       "      <td>The Life Of Pablo</td>\n",
       "      <td>1</td>\n",
       "      <td>2016-04-23</td>\n",
       "    </tr>\n",
       "    <tr>\n",
       "      <th>536299</th>\n",
       "      <td>The Lumineers</td>\n",
       "      <td>Cleopatra</td>\n",
       "      <td>1</td>\n",
       "      <td>2016-04-30</td>\n",
       "    </tr>\n",
       "    <tr>\n",
       "      <th>536499</th>\n",
       "      <td>Prince</td>\n",
       "      <td>The Very Best Of Prince</td>\n",
       "      <td>1</td>\n",
       "      <td>2016-05-07</td>\n",
       "    </tr>\n",
       "    <tr>\n",
       "      <th>536699</th>\n",
       "      <td>Beyonce</td>\n",
       "      <td>Lemonade</td>\n",
       "      <td>1</td>\n",
       "      <td>2016-05-14</td>\n",
       "    </tr>\n",
       "  </tbody>\n",
       "</table>\n",
       "<p>2735 rows × 4 columns</p>\n",
       "</div>"
      ],
      "text/plain": [
       "              artiste                                        album  rank  \\\n",
       "0       Andy Williams                       Days Of Wine And Roses     1   \n",
       "149     Stevie Wonder  Little Stevie Wonder/The 12 Year Old Genius     1   \n",
       "246     Allan Sherman                              My Son, The Nut     1   \n",
       "395     Allan Sherman                              My Son, The Nut     1   \n",
       "544     Allan Sherman                              My Son, The Nut     1   \n",
       "...               ...                                          ...   ...   \n",
       "535899           Zayn                                 Mind Of Mine     1   \n",
       "536099     Kanye West                            The Life Of Pablo     1   \n",
       "536299  The Lumineers                                    Cleopatra     1   \n",
       "536499         Prince                      The Very Best Of Prince     1   \n",
       "536699        Beyonce                                     Lemonade     1   \n",
       "\n",
       "              week  \n",
       "0       1963-08-17  \n",
       "149     1963-08-24  \n",
       "246     1963-08-31  \n",
       "395     1963-09-07  \n",
       "544     1963-09-14  \n",
       "...            ...  \n",
       "535899  2016-04-16  \n",
       "536099  2016-04-23  \n",
       "536299  2016-04-30  \n",
       "536499  2016-05-07  \n",
       "536699  2016-05-14  \n",
       "\n",
       "[2735 rows x 4 columns]"
      ]
     },
     "execution_count": 33,
     "metadata": {},
     "output_type": "execute_result"
    }
   ],
   "source": [
    "no_1 = clean.loc[clean['rank'] == 1]\n",
    "no_1"
   ]
  },
  {
   "cell_type": "code",
   "execution_count": 54,
   "metadata": {
    "collapsed": false
   },
   "outputs": [
    {
     "data": {
      "text/plain": [
       "0         Andy Williams\n",
       "149       Stevie Wonder\n",
       "246       Allan Sherman\n",
       "395       Allan Sherman\n",
       "544       Allan Sherman\n",
       "              ...      \n",
       "535899             Zayn\n",
       "536099       Kanye West\n",
       "536299    The Lumineers\n",
       "536499           Prince\n",
       "536699          Beyonce\n",
       "Name: artiste, dtype: object"
      ]
     },
     "execution_count": 54,
     "metadata": {},
     "output_type": "execute_result"
    }
   ],
   "source": [
    "no_1_artiste"
   ]
  },
  {
   "cell_type": "code",
   "execution_count": 57,
   "metadata": {
    "collapsed": false
   },
   "outputs": [],
   "source": [
    "no_1_artiste_dates = clean.week.loc[clean['rank'] == 1]"
   ]
  },
  {
   "cell_type": "code",
   "execution_count": 148,
   "metadata": {
    "collapsed": false
   },
   "outputs": [
    {
     "data": {
      "text/plain": [
       "0         Andy Williams\n",
       "149       Stevie Wonder\n",
       "246       Allan Sherman\n",
       "395       Allan Sherman\n",
       "544       Allan Sherman\n",
       "              ...      \n",
       "535899             Zayn\n",
       "536099       Kanye West\n",
       "536299    The Lumineers\n",
       "536499           Prince\n",
       "536699          Beyonce\n",
       "Name: artiste, dtype: object"
      ]
     },
     "execution_count": 148,
     "metadata": {},
     "output_type": "execute_result"
    }
   ],
   "source": [
    "no_1_artiste"
   ]
  },
  {
   "cell_type": "code",
   "execution_count": 49,
   "metadata": {
    "collapsed": false
   },
   "outputs": [
    {
     "data": {
      "text/plain": [
       "<matplotlib.axes._subplots.AxesSubplot at 0x1251c0550>"
      ]
     },
     "execution_count": 49,
     "metadata": {},
     "output_type": "execute_result"
    },
    {
     "data": {
      "image/png": "[encoded data removed]",
      "text/plain": [
       "<matplotlib.figure.Figure at 0x124ff5b50>"
      ]
     },
     "metadata": {},
     "output_type": "display_data"
    }
   ],
   "source": [
    "no_1_artiste.value_counts()[:40].plot(kind='bar')"
   ]
  },
  {
   "cell_type": "code",
   "execution_count": null,
   "metadata": {
    "collapsed": false
   },
   "outputs": [],
   "source": []
  },
  {
   "cell_type": "code",
   "execution_count": null,
   "metadata": {
    "collapsed": true
   },
   "outputs": [],
   "source": []
  }
 ],
 "metadata": {
  "kernelspec": {
   "display_name": "Python 2",
   "language": "python",
   "name": "python2"
  },
  "language_info": {
   "codemirror_mode": {
    "name": "ipython",
    "version": 2
   },
   "file_extension": ".py",
   "mimetype": "text/x-python",
   "name": "python",
   "nbconvert_exporter": "python",
   "pygments_lexer": "ipython2",
   "version": "2.7.11"
  }
 },
 "nbformat": 4,
 "nbformat_minor": 0
}
